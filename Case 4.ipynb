{
 "cells": [
  {
   "cell_type": "markdown",
   "id": "regulation-royalty",
   "metadata": {},
   "source": [
    "# Group 4 Case Study 4\n",
    "\n",
    "-----\n",
    "\n",
    "## Instruction\n",
    "Submit a Jupyter Notebook file that contains the python code to extract XML from the given file and save it to excel.\n",
    "[Card_Txn.xml](https://ariesbrylleventura.com/pup/pluginfile.php/384/mod_assign/introattachment/0/Card_Txn.xml?forcedownload=1)\n",
    "\n",
    "-----\n",
    "\n",
    "## Members\n",
    "* Michelle Bancifra\n",
    "* Charlotte Basister\n",
    "* Jairus Miguel Montante\n",
    "* Emmanuel Roa\n",
    "* Aaron James Villegas\n",
    "\n",
    "-----"
   ]
  },
  {
   "cell_type": "code",
   "execution_count": 1,
   "id": "banner-press",
   "metadata": {},
   "outputs": [],
   "source": [
    "import xml.etree.ElementTree as et\n",
    "import csv"
   ]
  },
  {
   "cell_type": "code",
   "execution_count": 2,
   "id": "korean-encyclopedia",
   "metadata": {},
   "outputs": [],
   "source": [
    "tree    = et.parse('Card_Txn.xml')\n",
    "root    = tree.getroot()\n",
    "headers = []\n",
    "data    = []"
   ]
  },
  {
   "cell_type": "code",
   "execution_count": 3,
   "id": "residential-chicken",
   "metadata": {
    "scrolled": true
   },
   "outputs": [],
   "source": [
    "for e in root[0]:\n",
    "    headers.append(e.tag)"
   ]
  },
  {
   "cell_type": "code",
   "execution_count": 4,
   "id": "authorized-agenda",
   "metadata": {},
   "outputs": [],
   "source": [
    "for record in root.findall('record'):\n",
    "    temp = []\n",
    "    for line in record:\n",
    "        temp.append(line.text)\n",
    "    data.append(temp)"
   ]
  },
  {
   "cell_type": "code",
   "execution_count": 5,
   "id": "moral-doctor",
   "metadata": {},
   "outputs": [],
   "source": [
    "with open('result.csv', 'w', newline='') as file:\n",
    "    csv_writer = csv.writer(file)\n",
    "    csv_writer.writerow(headers)\n",
    "    for line in data:\n",
    "        csv_writer.writerow(line)"
   ]
  },
  {
   "cell_type": "code",
   "execution_count": null,
   "id": "cardiac-chorus",
   "metadata": {},
   "outputs": [],
   "source": []
  }
 ],
 "metadata": {
  "kernelspec": {
   "display_name": "Python 3",
   "language": "python",
   "name": "python3"
  },
  "language_info": {
   "codemirror_mode": {
    "name": "ipython",
    "version": 3
   },
   "file_extension": ".py",
   "mimetype": "text/x-python",
   "name": "python",
   "nbconvert_exporter": "python",
   "pygments_lexer": "ipython3",
   "version": "3.6.7"
  }
 },
 "nbformat": 4,
 "nbformat_minor": 5
}